{
 "cells": [
  {
   "cell_type": "code",
   "execution_count": null,
   "metadata": {},
   "outputs": [],
   "source": [
    "#Instalação e Configuração\n",
    "%pip install yfinance"
   ]
  },
  {
   "cell_type": "code",
   "execution_count": null,
   "metadata": {},
   "outputs": [],
   "source": [
    "import json\n",
    "import os\n",
    "from datetime import datetime\n",
    "\n",
    "import yfinance as yf"
   ]
  },
  {
   "cell_type": "code",
   "execution_count": 10,
   "metadata": {},
   "outputs": [
    {
     "name": "stderr",
     "output_type": "stream",
     "text": [
      "[*********************100%%**********************]  1 of 1 completed"
     ]
    },
    {
     "name": "stderr",
     "output_type": "stream",
     "text": [
      "\n",
      "[*********************100%%**********************]  1 of 1 completed\n"
     ]
    }
   ],
   "source": [
    "def getStocksFrom(ticket):\n",
    "  return yf.download(ticket, start=\"2023-08-08\", end=\"2024-08-08\")\n",
    "\n",
    "apple = getStocksFrom(\"AAPL\")\n",
    "vale = getStocksFrom(\"VALE\")"
   ]
  },
  {
   "cell_type": "code",
   "execution_count": 11,
   "metadata": {},
   "outputs": [
    {
     "name": "stdout",
     "output_type": "stream",
     "text": [
      "             Open   High    Low  Close  Adj Close    Volume\n",
      "Date                                                       \n",
      "2023-08-08  13.50  13.90  13.42  13.75  11.938601  27126500\n",
      "2023-08-09  13.79  13.85  13.57  13.60  11.808363  15380500\n",
      "2023-08-10  13.72  13.79  13.49  13.50  11.721535  15100700\n",
      "2023-08-11  13.46  13.51  13.29  13.32  11.565248  29016600\n",
      "2023-08-14  12.65  12.65  12.45  12.47  11.167622  26182600\n",
      "...           ...    ...    ...    ...        ...       ...\n",
      "2024-08-01  10.86  10.91  10.46  10.48  10.106075  34377700\n",
      "2024-08-02  10.55  10.56  10.35  10.37  10.000000  37203500\n",
      "2024-08-05   9.71  10.00   9.66   9.95   9.950000  36519600\n",
      "2024-08-06   9.94  10.17   9.89  10.10  10.100000  40183800\n",
      "2024-08-07  10.20  10.37  10.11  10.12  10.120000  29244000\n",
      "\n",
      "[252 rows x 6 columns]\n"
     ]
    }
   ],
   "source": [
    "print(vale)"
   ]
  }
 ],
 "metadata": {
  "kernelspec": {
   "display_name": "venv_SAWAIA",
   "language": "python",
   "name": "python3"
  },
  "language_info": {
   "codemirror_mode": {
    "name": "ipython",
    "version": 3
   },
   "file_extension": ".py",
   "mimetype": "text/x-python",
   "name": "python",
   "nbconvert_exporter": "python",
   "pygments_lexer": "ipython3",
   "version": "3.12.3"
  }
 },
 "nbformat": 4,
 "nbformat_minor": 2
}
