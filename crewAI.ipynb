{
 "cells": [
  {
   "cell_type": "code",
   "execution_count": null,
   "metadata": {},
   "outputs": [],
   "source": [
    "# #Instalação e Configuração\n",
    "# %pip install yfinance==0.2.41\n",
    "# %pip install crewai==0.28.8\n",
    "# %pip install 'crewai[tools]'\n",
    "# %pip install langchain==0.1.20\n",
    "# %pip install langchain-openai==0.1.7\n",
    "# %pip install langchain-community==0.0.38\n",
    "# %pip install duckduckgo-search==5.3.0"
   ]
  },
  {
   "cell_type": "code",
   "execution_count": null,
   "metadata": {},
   "outputs": [],
   "source": [
    "#Importações\n",
    "import json\n",
    "import os\n",
    "import sys\n",
    "\n",
    "import yfinance as yf\n",
    "\n",
    "from datetime import datetime\n",
    "from crewai import Agent, Task, Crew, Process\n",
    "from langchain.tools import Tool\n",
    "from langchain_openai import ChatOpenAI\n",
    "from langchain_community.tools import DuckDuckGoSearchResults\n",
    "\n",
    "from api_settings import fetcher as fetch"
   ]
  },
  {
   "cell_type": "code",
   "execution_count": null,
   "metadata": {},
   "outputs": [],
   "source": [
    "# Criação da Yahoo Finance Fetch Tool\n",
    "def __fetchStock(ticket):\n",
    "  return yf.download(ticket, start=\"2023-08-08\", end=\"2024-08-08\")\n",
    "\n",
    "yf_fetch_tool = Tool(\n",
    "  name = \"Yahoo Finance Fetch Tool\",\n",
    "  description = \"Fetches stock price history for {ticket} from the Yahoo Finance API\",\n",
    "  func = lambda ticket: __fetchStock(ticket)\n",
    ")\n",
    "\n",
    "# def response(ticket):\n",
    "#   return yf_fetch_tool.run(ticket)"
   ]
  },
  {
   "cell_type": "code",
   "execution_count": null,
   "metadata": {},
   "outputs": [],
   "source": [
    "# Importando OPENAI LLM - GPT\n",
    "os.environ['OPENAI_API_KEY'] = fetch.fetchKey('api_settings/openAIKey.txt', 'openAIKey')\n",
    "llm = ChatOpenAI(model=\"gpt-4o-mini\")"
   ]
  },
  {
   "cell_type": "code",
   "execution_count": null,
   "metadata": {},
   "outputs": [],
   "source": [
    "AGENT_trendsAnalyst = Agent(\n",
    "  role = \"Senior Market Trends Analyst\",\n",
    "  goal = \"Find the {ticket} stock price and analyze market trends\",\n",
    "  backstory = \"\"\"You're a highly experienced investor and you're an expert in analyzing market trends \n",
    "  and make reasonably accurate predictions about future stock price growth\"\"\",\n",
    "  verbose = True,\n",
    "  llm = llm,\n",
    "  max_iter = 5,\n",
    "  memory = True,\n",
    "  allow_delegation = False,\n",
    "  tools = [yf_fetch_tool]\n",
    ")"
   ]
  },
  {
   "cell_type": "code",
   "execution_count": null,
   "metadata": {},
   "outputs": [],
   "source": [
    "TASK_getStockPrice = Task(\n",
    "  description = \"Analyze the stock {ticket} price history and create a trend analysis of up, down or sideways\",\n",
    "  expected_output = \"\"\" Specify the current trend - up, down or sideways.\n",
    "  eg. stock='AAPL, price UP'\"\"\",\n",
    "  agent = AGENT_trendsAnalyst\n",
    ")"
   ]
  },
  {
   "cell_type": "code",
   "execution_count": null,
   "metadata": {},
   "outputs": [],
   "source": [
    "search_tool = DuckDuckGoSearchResults(backend='news', num_results=10)"
   ]
  },
  {
   "cell_type": "code",
   "execution_count": null,
   "metadata": {},
   "outputs": [],
   "source": [
    "AGENT_newsAnalyst = Agent(\n",
    "  role = \"Senior Market News Analyst\",\n",
    "  goal = \"\"\"Create a short summary of news regarding the stock {ticket} \n",
    "  and specify the current trend based on the context of the news - up, down or sideways. \n",
    "  For each requested stock, specify a number between 0 and 100, where 0 indicates extreme fear and 100 indicates extreme greed.\"\"\",\n",
    "  backstory = \"\"\"You're a senior market analyst with over a decade in experience, you specialize in predicting future trends based on current news.\n",
    "  You're also a master level analyst in the traditional markets and you've got a deep understanding of human psychology and market trends.\n",
    "  You're capable of reading, interpreting and understanding current news - their headlines and contents -  however, you still regard them with a healthy dose of skepticism, you also prefer to read articles\n",
    "  from trustworthy sources\"\"\",\n",
    "  verbose = True,\n",
    "  llm = llm,\n",
    "  max_iter = 10,\n",
    "  memory = True,\n",
    "  allow_delegation = False,\n",
    "  tools = [search_tool]\n",
    ")"
   ]
  },
  {
   "cell_type": "code",
   "execution_count": null,
   "metadata": {},
   "outputs": [],
   "source": [
    "TASK_getNews = Task(\n",
    "  description = f\"\"\"Take the stock and always include BTC and ETH to it (if not requested).\n",
    "  Use the search tool to search each one individually\n",
    "  \n",
    "  The current date is {datetime.now()}\n",
    "  \n",
    "  Compose the results into a helpful report\"\"\",\n",
    "  expected_output = \"\"\" A summary of the overall market and a single-sentenced summary for each requested asset. Include a fear/greed score for each asset based on the current news.\n",
    "  Use the following format:\n",
    "  <ASSET NAME>\n",
    "  <SUMMARY BASED ON NEWS>\n",
    "  <TREND PREDICTION>\n",
    "  <FEAR/GREED INDEX>\"\"\",\n",
    "  agent = AGENT_newsAnalyst\n",
    ")"
   ]
  },
  {
   "cell_type": "code",
   "execution_count": null,
   "metadata": {},
   "outputs": [],
   "source": [
    "AGENT_writerAnalyst = Agent(\n",
    "  role = \"Senior Stock Analyst\",\n",
    "  goal = \"Write an insightful, informative and compelling 3 paragraph-long newsletter report based on stock price trends and news headline trends.\",\n",
    "  backstory = \"\"\"You're a well-regarded and well-known market analyst, your newsletter is also widely considered to be trustworthy.\n",
    "  You're able to understand the intricate and complex market behaviors and you're capable to create compelling stories and narratives that resonate with the wider audiences \n",
    "  that might not necessarily understand the market as well as you do.\n",
    "  \n",
    "  You understand macrofactors and combine multiple theories - eg. cycle theory and fundamental analysis.\n",
    "  You're capable of holding multiple opinions when analyzing anything\"\"\",\n",
    "  verbose = True,\n",
    "  llm = llm,\n",
    "  max_iter = 5,\n",
    "  memory = True,\n",
    "  allow_delegation = True,\n",
    ")"
   ]
  },
  {
   "cell_type": "code",
   "execution_count": null,
   "metadata": {},
   "outputs": [],
   "source": [
    "TASK_writeAnalysis = Task(\n",
    "  description = \"\"\"Use the Stock Price Trends and Market News Trends analysis reports to create\n",
    "  and write a brief newsletter analyzing the {ticket} company featuring the most relevant and important points.\n",
    "  Focus on the stock price trends, news and the fear/greed index score. What are the near future considerations?\n",
    "  Also include the previous analysis of the stock trend and news summary.\"\"\",\n",
    "  expected_output = \"\"\" An eloquent 3 paragraph newsletter formatted as markdown in an easily readable manner. It should contain:\n",
    "  - 3 Bullets Executive Summary\n",
    "  - Introduction - Set the overall picture and spike up the interest of the reader\n",
    "  - Main Part that provides the actual bulk of the analysis including the summary of the news and the fear/greed index.\n",
    "  - Summary - key facts and concrete future trends predictions - up, down or sideways.\n",
    "  \"\"\",\n",
    "  agent = AGENT_writerAnalyst,\n",
    "  context = [TASK_getStockPrice, TASK_getNews]\n",
    ")"
   ]
  },
  {
   "cell_type": "code",
   "execution_count": null,
   "metadata": {},
   "outputs": [],
   "source": [
    "crew = Crew(\n",
    "  agents = [AGENT_trendsAnalyst, AGENT_newsAnalyst, AGENT_writerAnalyst],\n",
    "  tasks = [TASK_getStockPrice, TASK_getNews, TASK_writeAnalysis],\n",
    "  verbose = 2,\n",
    "  process = Process.hierarchical,\n",
    "  full_output = True,\n",
    "  share_crew = False,\n",
    "  manager_llm = llm,\n",
    "  max_iter = 15\n",
    ")"
   ]
  },
  {
   "cell_type": "code",
   "execution_count": null,
   "metadata": {},
   "outputs": [],
   "source": [
    "results = crew.kickoff(inputs={'ticket': 'AAPL'})"
   ]
  }
 ],
 "metadata": {
  "kernelspec": {
   "display_name": "venv_SAWAIA",
   "language": "python",
   "name": "python3"
  },
  "language_info": {
   "codemirror_mode": {
    "name": "ipython",
    "version": 3
   },
   "file_extension": ".py",
   "mimetype": "text/x-python",
   "name": "python",
   "nbconvert_exporter": "python",
   "pygments_lexer": "ipython3",
   "version": "3.12.3"
  }
 },
 "nbformat": 4,
 "nbformat_minor": 2
}
